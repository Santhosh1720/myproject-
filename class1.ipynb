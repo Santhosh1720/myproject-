{
 "cells": [
  {
   "cell_type": "code",
   "execution_count": 4,
   "id": "625d3b9c",
   "metadata": {},
   "outputs": [
    {
     "name": "stdout",
     "output_type": "stream",
     "text": [
      "x is grter than y\n",
      "fgb\n"
     ]
    }
   ],
   "source": [
    "x = 1\n",
    "y=3\n",
    "if x<y:\n",
    "    print('x is grter than y')\n",
    "print('fgb')"
   ]
  },
  {
   "cell_type": "code",
   "execution_count": 6,
   "id": "ec469404",
   "metadata": {},
   "outputs": [
    {
     "name": "stdout",
     "output_type": "stream",
     "text": [
      "['pop', 'rock', 'jazz']\n",
      "['pop', 'rock', 'jazz']\n",
      "['pop', 'rock', 'jazz']\n"
     ]
    }
   ],
   "source": [
    "genre = ['pop', 'rock', 'jazz']\n",
    "\n",
    "# iterate over the list using index\n",
    "for i in genre:\n",
    "    print(genre)"
   ]
  },
  {
   "cell_type": "code",
   "execution_count": 15,
   "id": "ed2ce1a3",
   "metadata": {},
   "outputs": [
    {
     "name": "stdout",
     "output_type": "stream",
     "text": [
      "9 8 7 6 5 4 3 2 "
     ]
    }
   ],
   "source": [
    "for i in range(9,1,-1):\n",
    "    print(i,end=\" \")"
   ]
  },
  {
   "cell_type": "code",
   "execution_count": 16,
   "id": "6ad72eda",
   "metadata": {},
   "outputs": [],
   "source": [
    "myname = \"my name is\""
   ]
  },
  {
   "cell_type": "code",
   "execution_count": 17,
   "id": "80ff5787",
   "metadata": {},
   "outputs": [
    {
     "name": "stdout",
     "output_type": "stream",
     "text": [
      "my name is\n"
     ]
    }
   ],
   "source": [
    "print(myname)"
   ]
  },
  {
   "cell_type": "code",
   "execution_count": 18,
   "id": "ca523b01",
   "metadata": {},
   "outputs": [
    {
     "name": "stdout",
     "output_type": "stream",
     "text": [
      "a=10type=<class 'int'>\n",
      "b=10type=<class 'int'>\n",
      "c=10type=<class 'int'>\n",
      "d=10type=<class 'int'>\n",
      "e=10type=<class 'int'>\n",
      "list=10type=<class 'int'>\n",
      "tuple=10type=<class 'int'>\n",
      "set=10type=<class 'int'>\n",
      "dict={1: 'cse', 2: 'ece', 3: 'eee'}type=<class 'dict'>\n"
     ]
    }
   ],
   "source": [
    "a = 10\n",
    "b = 12.4\n",
    "c = 2+3j\n",
    "d = 'none'\n",
    "e=Tuplename = \"ramanji\"\n",
    "list=[11,12,13]\n",
    "temp=(11,12,13)\n",
    "set={11,12,13}\n",
    "dict={1:'cse',2:'ece',3:'eee'}\n",
    "print(\"a={}type={}\".format(a,type(a)))\n",
    "print(\"b={}type={}\".format(a,type(a)))\n",
    "print(\"c={}type={}\".format(a,type(a)))\n",
    "print(\"d={}type={}\".format(a,type(a)))\n",
    "print(\"e={}type={}\".format(a,type(a)))\n",
    "print(\"list={}type={}\".format(a,type(a)))\n",
    "print(\"tuple={}type={}\".format(a,type(a)))\n",
    "print(\"set={}type={}\".format(a,type(a)))\n",
    "print(\"dict={}type={}\".format(dict,type(dict)))"
   ]
  },
  {
   "cell_type": "code",
   "execution_count": null,
   "id": "9d089e1b",
   "metadata": {},
   "outputs": [],
   "source": []
  }
 ],
 "metadata": {
  "kernelspec": {
   "display_name": "Python 3",
   "language": "python",
   "name": "python3"
  },
  "language_info": {
   "codemirror_mode": {
    "name": "ipython",
    "version": 3
   },
   "file_extension": ".py",
   "mimetype": "text/x-python",
   "name": "python",
   "nbconvert_exporter": "python",
   "pygments_lexer": "ipython3",
   "version": "3.8.8"
  }
 },
 "nbformat": 4,
 "nbformat_minor": 5
}
